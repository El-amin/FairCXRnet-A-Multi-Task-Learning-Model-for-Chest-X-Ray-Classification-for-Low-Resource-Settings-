{
  "nbformat": 4,
  "nbformat_minor": 0,
  "metadata": {
    "colab": {
      "provenance": [],
      "gpuType": "A100",
      "authorship_tag": "ABX9TyOzbb0X4STF4GQ/Bpn2Aoez",
      "include_colab_link": true
    },
    "kernelspec": {
      "name": "python3",
      "display_name": "Python 3"
    },
    "language_info": {
      "name": "python"
    },
    "accelerator": "GPU"
  },
  "cells": [
    {
      "cell_type": "markdown",
      "metadata": {
        "id": "view-in-github",
        "colab_type": "text"
      },
      "source": [
        "<a href=\"https://colab.research.google.com/github/El-amin/FairCXRnet-A-Multi-Task-Learning-Model-for-Chest-X-Ray-Classification-for-Low-Resource-Settings-/blob/main/Nigeria_VS_Others_MTL.ipynb\" target=\"_parent\"><img src=\"https://colab.research.google.com/assets/colab-badge.svg\" alt=\"Open In Colab\"/></a>"
      ]
    },
    {
      "cell_type": "code",
      "source": [
        "import zipfile\n",
        "import tensorflow as tf\n",
        "import numpy as np\n",
        "from tensorflow.keras.applications import DenseNet201"
      ],
      "metadata": {
        "id": "gtC6QLbD84PT"
      },
      "execution_count": null,
      "outputs": []
    },
    {
      "cell_type": "code",
      "source": [
        "# Example for loading data using Kaggle API\n",
        "!kaggle datasets download -d paultimothymooney/chest-xray-pneumonia\n",
        "\n",
        "# Use libraries like pandas, NumPy, or TensorFlow Datasets to load the images and labels\n"
      ],
      "metadata": {
        "colab": {
          "base_uri": "https://localhost:8080/"
        },
        "id": "etRv09Uob3Sj",
        "outputId": "da6e336c-b29f-4a35-96a6-ae36f41537a9"
      },
      "execution_count": null,
      "outputs": [
        {
          "output_type": "stream",
          "name": "stdout",
          "text": [
            "Dataset URL: https://www.kaggle.com/datasets/paultimothymooney/chest-xray-pneumonia\n",
            "License(s): other\n",
            "Downloading chest-xray-pneumonia.zip to /content\n",
            "100% 2.29G/2.29G [01:56<00:00, 22.3MB/s]\n",
            "100% 2.29G/2.29G [01:56<00:00, 21.2MB/s]\n"
          ]
        }
      ]
    },
    {
      "cell_type": "code",
      "source": [
        "!kaggle datasets download -d aminumusa/nigeria-chest-x-ray-dataset"
      ],
      "metadata": {
        "colab": {
          "base_uri": "https://localhost:8080/"
        },
        "id": "5bx0ldzA7sEx",
        "outputId": "925180ab-f1e8-41ec-e054-3bf38e46754e"
      },
      "execution_count": null,
      "outputs": [
        {
          "output_type": "stream",
          "name": "stdout",
          "text": [
            "Dataset URL: https://www.kaggle.com/datasets/aminumusa/nigeria-chest-x-ray-dataset\n",
            "License(s): CC-BY-NC-SA-4.0\n",
            "Downloading nigeria-chest-x-ray-dataset.zip to /content\n",
            " 99% 239M/241M [00:16<00:00, 15.7MB/s]\n",
            "100% 241M/241M [00:16<00:00, 15.5MB/s]\n"
          ]
        }
      ]
    },
    {
      "cell_type": "code",
      "source": [
        "!mkdir 'Nigeria_dataset'"
      ],
      "metadata": {
        "id": "qd6DQC3r8auR"
      },
      "execution_count": null,
      "outputs": []
    },
    {
      "cell_type": "code",
      "source": [
        "!mkdir 'China_dataset'"
      ],
      "metadata": {
        "id": "wD5SuQid8eLn"
      },
      "execution_count": null,
      "outputs": []
    },
    {
      "cell_type": "code",
      "source": [
        "local_zip = '/content/chest-xray-pneumonia.zip'\n",
        "zip_ref   = zipfile.ZipFile(local_zip, 'r')\n",
        "zip_ref.extractall('content/China_dataset')\n",
        "zip_ref.close()"
      ],
      "metadata": {
        "id": "muDjBWCh8tM_"
      },
      "execution_count": null,
      "outputs": []
    },
    {
      "cell_type": "code",
      "source": [
        "local_zip = '/content/nigeria-chest-x-ray-dataset.zip'\n",
        "zip_ref   = zipfile.ZipFile(local_zip, 'r')\n",
        "zip_ref.extractall('content/Nigeria_dataset')\n",
        "zip_ref.close()"
      ],
      "metadata": {
        "id": "V5H1neXH9uv6"
      },
      "execution_count": null,
      "outputs": []
    },
    {
      "cell_type": "code",
      "source": [
        "data1_dir='/content/content/China_dataset/chest_xray/train'\n",
        "data1_val_dir='/content/content/China_dataset/chest_xray/val'\n",
        "data2_dir='/content/content/Nigeria_dataset/my_dataset/train_folder'\n",
        "data2_val_dir='/content/content/Nigeria_dataset/my_dataset/test_folder'"
      ],
      "metadata": {
        "id": "sw0h3wzOBbmW"
      },
      "execution_count": null,
      "outputs": []
    },
    {
      "cell_type": "code",
      "source": [],
      "metadata": {
        "id": "5_OOtm7QOJ7G"
      },
      "execution_count": null,
      "outputs": []
    },
    {
      "cell_type": "markdown",
      "source": [
        "**Pytorch** **Section**"
      ],
      "metadata": {
        "id": "5sqEYxn0gbX-"
      }
    },
    {
      "cell_type": "code",
      "source": [
        "#loading 2\n",
        "import torch\n",
        "import torchvision\n",
        "from torchvision import transforms\n",
        "from torch.utils.data import DataLoader, ConcatDataset\n",
        "from PIL import Image, UnidentifiedImageError\n",
        "import os\n",
        "\n",
        "# Define transforms for data preprocessing\n",
        "transform = transforms.Compose([\n",
        "    transforms.Resize((224, 224)),\n",
        "    transforms.ToTensor(),\n",
        "])\n",
        "\n",
        "# Define a function to check if a file is a valid image\n",
        "def is_image_file(file_path):\n",
        "    try:\n",
        "        Image.open(file_path).verify()  # Verify if it's a valid image\n",
        "        return True\n",
        "    except (UnidentifiedImageError, IOError):\n",
        "        return False\n",
        "\n",
        "# Define custom dataset for Nigerian Chest X-ray Dataset (4 classes)\n",
        "class NigerianChestXRayDataset(torch.utils.data.Dataset):\n",
        "    def __init__(self, root_dir, transform=None):\n",
        "        self.root_dir = root_dir\n",
        "        self.transform = transform\n",
        "        self.classes = ['PNEUMONIA', 'COVID', 'TB', 'NORMAL']\n",
        "        self.image_paths = []\n",
        "        self.labels = []\n",
        "\n",
        "        for idx, class_name in enumerate(self.classes):\n",
        "            class_dir = os.path.join(root_dir, class_name)\n",
        "            for img_name in os.listdir(class_dir):\n",
        "                img_path = os.path.join(class_dir, img_name)\n",
        "\n",
        "                # Filter out non-image files\n",
        "                if is_image_file(img_path):\n",
        "                    self.image_paths.append(img_path)\n",
        "                    self.labels.append(idx)\n",
        "\n",
        "    def __len__(self):\n",
        "        return len(self.image_paths)\n",
        "\n",
        "    def __getitem__(self, idx):\n",
        "        img_path = self.image_paths[idx]\n",
        "        image = Image.open(img_path).convert('RGB')  # Convert to RGB\n",
        "        label = self.labels[idx]\n",
        "        if self.transform:\n",
        "            image = self.transform(image)\n",
        "        return image, label\n",
        "\n",
        "# Define custom dataset for Kaggle Pneumonia Dataset (2 classes)\n",
        "class PneumoniaDataset(torch.utils.data.Dataset):\n",
        "    def __init__(self, root_dir, transform=None):\n",
        "        self.root_dir = root_dir\n",
        "        self.transform = transform\n",
        "        self.classes = ['PNEUMONIA', 'NORMAL']\n",
        "        self.image_paths = []\n",
        "        self.labels = []\n",
        "\n",
        "        for idx, class_name in enumerate(self.classes):\n",
        "            class_dir = os.path.join(root_dir, class_name)\n",
        "            for img_name in os.listdir(class_dir):\n",
        "                img_path = os.path.join(class_dir, img_name)\n",
        "\n",
        "                # Filter out non-image files\n",
        "                if is_image_file(img_path):\n",
        "                    self.image_paths.append(img_path)\n",
        "                    self.labels.append(idx)\n",
        "\n",
        "    def __len__(self):\n",
        "        return len(self.image_paths)\n",
        "\n",
        "    def __getitem__(self, idx):\n",
        "        img_path = self.image_paths[idx]\n",
        "        image = Image.open(img_path).convert('RGB')  # Convert to RGB\n",
        "        label = self.labels[idx]\n",
        "        if self.transform:\n",
        "            image = self.transform(image)\n",
        "        return image, label\n",
        "\n",
        "# Load datasets\n",
        "nigerian_dataset = NigerianChestXRayDataset('/content/content/Nigeria_dataset/my_dataset/train_folder', transform=transform)\n",
        "pneumonia_dataset = PneumoniaDataset('/content/content/China_dataset/chest_xray/train', transform=transform)\n",
        "\n",
        "# Combine datasets into one\n",
        "combined_dataset = ConcatDataset([nigerian_dataset, pneumonia_dataset])\n",
        "\n",
        "# Split into training and validation datasets\n",
        "val_size = int(0.2 * len(combined_dataset))\n",
        "train_dataset, val_dataset = torch.utils.data.random_split(combined_dataset, [len(combined_dataset) - val_size, val_size])\n",
        "\n",
        "# DataLoader\n",
        "train_loader = DataLoader(train_dataset, batch_size=16, shuffle=True)\n",
        "val_loader = DataLoader(val_dataset, batch_size=16, shuffle=False)\n",
        "\n"
      ],
      "metadata": {
        "id": "LJQaNWtW0GNe"
      },
      "execution_count": null,
      "outputs": []
    },
    {
      "cell_type": "code",
      "source": [
        "import torch\n",
        "from torch.utils.data import Dataset, DataLoader\n",
        "from torchvision import transforms\n",
        "from PIL import Image\n",
        "import os\n",
        "\n",
        "# Define transforms for data preprocessing\n",
        "transform = transforms.Compose([\n",
        "    transforms.Resize((224, 224)),\n",
        "    transforms.ToTensor(),\n",
        "])\n",
        "\n",
        "# Define custom dataset for binary classification (Pneumonia vs Normal)\n",
        "class NigerianChestXRayDataset(Dataset):\n",
        "    def __init__(self, root_dir, transform=None):\n",
        "        self.root_dir = root_dir\n",
        "        self.transform = transform\n",
        "        self.classes = ['PNEUMONIA', 'NORMAL']  # Binary classification\n",
        "        self.class_to_idx = {class_name: idx for idx, class_name in enumerate(self.classes)}\n",
        "        self.image_paths = []\n",
        "        self.labels = []\n",
        "\n",
        "        for class_name in self.classes:\n",
        "            class_dir = os.path.join(root_dir, class_name)\n",
        "            for img_name in os.listdir(class_dir):\n",
        "                img_path = os.path.join(class_dir, img_name)\n",
        "                self.image_paths.append(img_path)\n",
        "                self.labels.append(self.class_to_idx[class_name])\n",
        "\n",
        "    def __len__(self):\n",
        "        return len(self.image_paths)\n",
        "\n",
        "    def __getitem__(self, idx):\n",
        "        img_path = self.image_paths[idx]\n",
        "        image = Image.open(img_path).convert('RGB')\n",
        "        label = self.labels[idx]\n",
        "        if self.transform:\n",
        "            image = self.transform(image)\n",
        "        return image, label\n",
        "\n",
        "# Initialize dataset\n",
        "nigerian_binary_dataset = NigerianChestXRayDataset('/content/content/Nigeria_dataset/my_dataset/train_folder', transform=transform)\n",
        "\n",
        "# Define DataLoader\n",
        "train_loader = DataLoader(nigerian_binary_dataset, batch_size=16, shuffle=True)\n",
        "\n",
        "# Print dataset information\n",
        "print(f\"Number of samples in the dataset: {len(nigerian_binary_dataset)}\")\n",
        "\n"
      ],
      "metadata": {
        "colab": {
          "base_uri": "https://localhost:8080/"
        },
        "id": "KqpYKIwbPb9M",
        "outputId": "98f4a79b-ad21-4fc2-c6e2-a3bcc7de38bd"
      },
      "execution_count": null,
      "outputs": [
        {
          "output_type": "stream",
          "name": "stdout",
          "text": [
            "Number of samples in the dataset: 1000\n"
          ]
        }
      ]
    },
    {
      "cell_type": "code",
      "source": [
        "import torch\n",
        "import torch.nn as nn\n",
        "import torchvision.models as models\n",
        "\n",
        "class MultiTaskDenseNet201(nn.Module):\n",
        "    def __init__(self):\n",
        "        super(MultiTaskDenseNet201, self).__init__()\n",
        "        self.base_model = models.densenet201(pretrained=True)\n",
        "        self.base_model.classifier = nn.Identity()  # Remove the final classifier\n",
        "\n",
        "        self.shared_fc = nn.Sequential(\n",
        "            nn.Linear(1920, 1024),\n",
        "            nn.ReLU()\n",
        "        )\n",
        "\n",
        "        # Task-specific output heads\n",
        "        self.task1_head = nn.Linear(1024, 2)  # For Nigerian dataset (2 classes)\n",
        "        self.task2_head = nn.Linear(1024, 2)  # For Kaggle Pneumonia dataset (2 classes)\n",
        "\n",
        "    def forward(self, x):\n",
        "        features = self.base_model(x)\n",
        "        shared_features = self.shared_fc(features)\n",
        "        task1_output = self.task1_head(shared_features)\n",
        "        task2_output = self.task2_head(shared_features)\n",
        "        return task1_output, task2_output\n",
        "\n",
        "model = MultiTaskDenseNet201()\n"
      ],
      "metadata": {
        "colab": {
          "base_uri": "https://localhost:8080/"
        },
        "id": "dkNuTl0fPx7b",
        "outputId": "acd73ae5-422b-4d4b-aad4-ec083e003692"
      },
      "execution_count": null,
      "outputs": [
        {
          "output_type": "stream",
          "name": "stderr",
          "text": [
            "/usr/local/lib/python3.10/dist-packages/torchvision/models/_utils.py:208: UserWarning: The parameter 'pretrained' is deprecated since 0.13 and may be removed in the future, please use 'weights' instead.\n",
            "  warnings.warn(\n",
            "/usr/local/lib/python3.10/dist-packages/torchvision/models/_utils.py:223: UserWarning: Arguments other than a weight enum or `None` for 'weights' are deprecated since 0.13 and may be removed in the future. The current behavior is equivalent to passing `weights=DenseNet201_Weights.IMAGENET1K_V1`. You can also use `weights=DenseNet201_Weights.DEFAULT` to get the most up-to-date weights.\n",
            "  warnings.warn(msg)\n",
            "Downloading: \"https://download.pytorch.org/models/densenet201-c1103571.pth\" to /root/.cache/torch/hub/checkpoints/densenet201-c1103571.pth\n",
            "100%|██████████| 77.4M/77.4M [00:00<00:00, 197MB/s]\n"
          ]
        }
      ]
    },
    {
      "cell_type": "code",
      "source": [
        "def train_model(model, train_loader, val_loader, num_epochs=10):\n",
        "    optimizer = torch.optim.Adam(model.parameters(), lr=0.001)\n",
        "    criterion_task1 = torch.nn.CrossEntropyLoss()  # Loss for Nigerian dataset\n",
        "    criterion_task2 = torch.nn.CrossEntropyLoss()  # Loss for Kaggle Pneumonia dataset\n",
        "\n",
        "    for epoch in range(num_epochs):\n",
        "        model.train()\n",
        "        running_loss = 0.0\n",
        "\n",
        "        for inputs, labels in train_loader:\n",
        "            # Forward pass\n",
        "            outputs_task1, outputs_task2 = model(inputs)\n",
        "\n",
        "\n",
        "            # Assuming the labels are the same for both tasks, split them for each task\n",
        "            labels_task1 = labels\n",
        "            labels_task2 = labels\n",
        "\n",
        "            # Ensure the outputs and labels match in size\n",
        "            assert outputs_task1.size(0) == labels_task1.size(0), \"Mismatch in batch size for task 1\"\n",
        "            assert outputs_task2.size(0) == labels_task2.size(0), \"Mismatch in batch size for task 2\"\n",
        "\n",
        "            optimizer.zero_grad()\n",
        "\n",
        "            # Compute losses\n",
        "            loss_task1 = criterion_task1(outputs_task1, labels_task1)\n",
        "            loss_task2 = criterion_task2(outputs_task2, labels_task2)\n",
        "\n",
        "            # Total loss\n",
        "            loss = loss_task1 + loss_task2\n",
        "            loss.backward()\n",
        "            optimizer.step()\n",
        "\n",
        "            running_loss += loss.item() * inputs.size(0)\n",
        "\n",
        "        epoch_loss = running_loss / len(train_loader.dataset)\n",
        "        print(f\"Epoch {epoch+1}/{num_epochs}, Loss: {epoch_loss:.4f}\")\n",
        "\n",
        "train_model(model, train_loader, val_loader, num_epochs=10)\n"
      ],
      "metadata": {
        "colab": {
          "base_uri": "https://localhost:8080/"
        },
        "id": "5JzLUm_NPz8p",
        "outputId": "8e35e762-a7b4-495d-fda2-4e60c846127b"
      },
      "execution_count": null,
      "outputs": [
        {
          "output_type": "stream",
          "name": "stdout",
          "text": [
            "Epoch 1/10, Loss: 0.2354\n",
            "Epoch 2/10, Loss: 0.1020\n",
            "Epoch 3/10, Loss: 0.0862\n",
            "Epoch 4/10, Loss: 0.1764\n",
            "Epoch 5/10, Loss: 0.1480\n",
            "Epoch 6/10, Loss: 0.0855\n",
            "Epoch 7/10, Loss: 0.0155\n",
            "Epoch 8/10, Loss: 0.0451\n",
            "Epoch 9/10, Loss: 0.0456\n",
            "Epoch 10/10, Loss: 0.0490\n"
          ]
        }
      ]
    },
    {
      "cell_type": "code",
      "source": [
        "#saving model\n",
        "torch.save(model.state_dict(), 'multi_task_model.pth')"
      ],
      "metadata": {
        "id": "cfnMYXWKcXwd"
      },
      "execution_count": null,
      "outputs": []
    },
    {
      "cell_type": "code",
      "source": [
        "import torch\n",
        "from sklearn.metrics import roc_auc_score, precision_score, recall_score, f1_score\n",
        "\n",
        "def validate_model(model, val_loader):\n",
        "    model.eval()  # Set the model to evaluation mode\n",
        "    criterion_task1 = torch.nn.CrossEntropyLoss()  # Loss for Nigerian dataset\n",
        "    criterion_task2 = torch.nn.CrossEntropyLoss()  # Loss for Kaggle Pneumonia dataset\n",
        "\n",
        "    val_loss_task1 = 0.0\n",
        "    val_loss_task2 = 0.0\n",
        "    correct_task1 = 0\n",
        "    correct_task2 = 0\n",
        "    total_task1 = 0\n",
        "    total_task2 = 0\n",
        "\n",
        "    all_labels_task1 = []\n",
        "    all_preds_task1 = []\n",
        "    all_labels_task2 = []\n",
        "    all_preds_task2 = []\n",
        "\n",
        "    with torch.no_grad():  # Disable gradient calculation\n",
        "        for inputs, labels in val_loader:\n",
        "            # Forward pass\n",
        "            outputs_task1, outputs_task2 = model(inputs)\n",
        "\n",
        "            # Make sure labels are binary (0 or 1)\n",
        "            labels = labels.clamp(0, 1)\n",
        "\n",
        "            # Compute losses\n",
        "            loss_task1 = criterion_task1(outputs_task1, labels)\n",
        "            loss_task2 = criterion_task2(outputs_task2, labels)\n",
        "\n",
        "            val_loss_task1 += loss_task1.item() * inputs.size(0)\n",
        "            val_loss_task2 += loss_task2.item() * inputs.size(0)\n",
        "\n",
        "            # Compute predictions\n",
        "            _, predicted_task1 = torch.max(outputs_task1, 1)\n",
        "            _, predicted_task2 = torch.max(outputs_task2, 1)\n",
        "\n",
        "            total_task1 += labels.size(0)\n",
        "            correct_task1 += (predicted_task1 == labels).sum().item()\n",
        "\n",
        "            total_task2 += labels.size(0)\n",
        "            correct_task2 += (predicted_task2 == labels).sum().item()\n",
        "\n",
        "            # Collect all predictions and labels\n",
        "            all_labels_task1.extend(labels.cpu().numpy())\n",
        "            all_preds_task1.extend(predicted_task1.cpu().numpy())\n",
        "            all_labels_task2.extend(labels.cpu().numpy())\n",
        "            all_preds_task2.extend(predicted_task2.cpu().numpy())\n",
        "\n",
        "    # Calculate metrics\n",
        "    val_loss_task1 /= len(val_loader.dataset)\n",
        "    val_loss_task2 /= len(val_loader.dataset)\n",
        "    accuracy_task1 = 100 * correct_task1 / total_task1\n",
        "    accuracy_task2 = 100 * correct_task2 / total_task2\n",
        "\n",
        "    # Binary classification metrics\n",
        "    precision_task1 = precision_score(all_labels_task1, all_preds_task1, average='weighted')\n",
        "    recall_task1 = recall_score(all_labels_task1, all_preds_task1, average='weighted')\n",
        "    f1_task1 = f1_score(all_labels_task1, all_preds_task1, average='weighted')\n",
        "\n",
        "    precision_task2 = precision_score(all_labels_task2, all_preds_task2, average='weighted')\n",
        "    recall_task2 = recall_score(all_labels_task2, all_preds_task2, average='weighted')\n",
        "    f1_task2 = f1_score(all_labels_task2, all_preds_task2, average='weighted')\n",
        "\n",
        "    auc_task1 = roc_auc_score(all_labels_task1, all_preds_task1)\n",
        "    auc_task2 = roc_auc_score(all_labels_task2, all_preds_task2)\n",
        "\n",
        "    print(f\"Validation Loss Task 1: {val_loss_task1:.4f}, Accuracy: {accuracy_task1:.2f}%\")\n",
        "    print(f\"Validation Loss Task 2: {val_loss_task2:.4f}, Accuracy: {accuracy_task2:.2f}%\")\n",
        "    print(f\"Task 1 - Precision: {precision_task1:.4f}, Recall: {recall_task1:.4f}, F1 Score: {f1_task1:.4f}, AUC: {auc_task1:.4f}\")\n",
        "    print(f\"Task 2 - Precision: {precision_task2:.4f}, Recall: {recall_task2:.4f}, F1 Score: {f1_task2:.4f}, AUC: {auc_task2:.4f}\")\n"
      ],
      "metadata": {
        "id": "9VLPV3ZTSkBA"
      },
      "execution_count": null,
      "outputs": []
    },
    {
      "cell_type": "code",
      "source": [
        "validate_model(model, val_loader)"
      ],
      "metadata": {
        "colab": {
          "base_uri": "https://localhost:8080/"
        },
        "id": "sbpBlbN2c8i_",
        "outputId": "a28a6044-b504-437b-8210-c26b82c865dd"
      },
      "execution_count": null,
      "outputs": [
        {
          "output_type": "stream",
          "name": "stdout",
          "text": [
            "Validation Loss Task 1: 1.9663, Accuracy: 77.96%\n",
            "Validation Loss Task 2: 2.0551, Accuracy: 77.96%\n",
            "Task 1 - Precision: 0.7988, Recall: 0.7796, F1 Score: 0.7647, AUC: 0.7352\n",
            "Task 2 - Precision: 0.7982, Recall: 0.7796, F1 Score: 0.7650, AUC: 0.7355\n"
          ]
        }
      ]
    },
    {
      "cell_type": "code",
      "source": [
        "#model 2\n",
        "import torch.nn as nn\n",
        "import torchvision.models as models\n",
        "\n",
        "class MultiTaskDenseNet201(nn.Module):\n",
        "    def __init__(self):\n",
        "        super(MultiTaskDenseNet201, self).__init__()\n",
        "        self.base_model = models.densenet201(pretrained=True)\n",
        "        self.base_model.classifier = nn.Identity()  # Remove the final classifier\n",
        "\n",
        "        self.shared_fc = nn.Sequential(\n",
        "            nn.Linear(1920, 1024),\n",
        "            nn.ReLU()\n",
        "        )\n",
        "\n",
        "        # Task-specific output heads\n",
        "        self.task1_head = nn.Linear(1024, 4)  # For Nigerian dataset (4 classes)\n",
        "        self.task2_head = nn.Linear(1024, 2)  # For Kaggle Pneumonia dataset (2 classes)\n",
        "\n",
        "    def forward(self, x):\n",
        "        features = self.base_model(x)\n",
        "        shared_features = self.shared_fc(features)\n",
        "        task1_output = self.task1_head(shared_features)\n",
        "        task2_output = self.task2_head(shared_features)\n",
        "        return task1_output, task2_output\n",
        "\n",
        "model = MultiTaskDenseNet201()\n"
      ],
      "metadata": {
        "colab": {
          "base_uri": "https://localhost:8080/"
        },
        "id": "vgkzvDBvW1Wc",
        "outputId": "3aa3b254-8786-4723-d9a2-80c04845e284"
      },
      "execution_count": null,
      "outputs": [
        {
          "output_type": "stream",
          "name": "stderr",
          "text": [
            "/usr/local/lib/python3.10/dist-packages/torchvision/models/_utils.py:208: UserWarning: The parameter 'pretrained' is deprecated since 0.13 and may be removed in the future, please use 'weights' instead.\n",
            "  warnings.warn(\n",
            "/usr/local/lib/python3.10/dist-packages/torchvision/models/_utils.py:223: UserWarning: Arguments other than a weight enum or `None` for 'weights' are deprecated since 0.13 and may be removed in the future. The current behavior is equivalent to passing `weights=DenseNet201_Weights.IMAGENET1K_V1`. You can also use `weights=DenseNet201_Weights.DEFAULT` to get the most up-to-date weights.\n",
            "  warnings.warn(msg)\n"
          ]
        }
      ]
    },
    {
      "cell_type": "code",
      "source": [
        "import torch\n",
        "\n",
        "def train_model(model, train_loader, val_loader, num_epochs=10):\n",
        "    optimizer = torch.optim.Adam(model.parameters(), lr=0.001)\n",
        "    criterion_task1 = torch.nn.CrossEntropyLoss()  # Loss for task 1 (4 classes)\n",
        "    criterion_task2 = torch.nn.CrossEntropyLoss()  # Loss for task 2 (2 classes)\n",
        "\n",
        "    for epoch in range(num_epochs):\n",
        "        model.train()\n",
        "        running_loss = 0.0\n",
        "\n",
        "        for batch in train_loader:\n",
        "            # Unpack batch\n",
        "            inputs, labels = batch\n",
        "\n",
        "            optimizer.zero_grad()\n",
        "\n",
        "            # Forward pass\n",
        "            outputs_task1, outputs_task2 = model(inputs)\n",
        "\n",
        "            # Print shapes for debugging\n",
        "            print(f\"Outputs task 1 shape: {outputs_task1.shape}\")\n",
        "            print(f\"Labels shape: {labels.shape}\")  # Assuming labels are combined\n",
        "\n",
        "            # Assuming labels are split such that:\n",
        "            # First half is for task1, second half is for task2\n",
        "            # Adjust this if the actual label structure is different\n",
        "            num_labels_task1 = outputs_task1.size(1)\n",
        "            num_labels_task2 = outputs_task2.size(1)\n",
        "\n",
        "            # Ensure labels are split correctly based on number of classes\n",
        "            labels_task1 = labels % num_labels_task1  # Dummy operation if labels are categorical\n",
        "            labels_task2 = labels // num_labels_task1  # Dummy operation if labels are categorical\n",
        "\n",
        "            # Compute losses\n",
        "            loss_task1 = criterion_task1(outputs_task1, labels_task1)\n",
        "            loss_task2 = criterion_task2(outputs_task2, labels_task2)\n",
        "\n",
        "            # Total loss\n",
        "            loss = loss_task1 + loss_task2\n",
        "            loss.backward()\n",
        "            optimizer.step()\n",
        "\n",
        "            running_loss += loss.item() * inputs.size(0)\n",
        "\n",
        "        epoch_loss = running_loss / len(train_loader.dataset)\n",
        "        print(f\"Epoch {epoch+1}/{num_epochs}, Loss: {epoch_loss:.4f}\")\n",
        "\n",
        "        # Validation\n",
        "        model.eval()\n",
        "        val_loss = 0.0\n",
        "        with torch.no_grad():\n",
        "            for batch in val_loader:\n",
        "                inputs, labels = batch\n",
        "\n",
        "                outputs_task1, outputs_task2 = model(inputs)\n",
        "\n",
        "                # Ensure labels are split correctly based on number of classes\n",
        "                labels_task1 = labels % num_labels_task1  # Dummy operation if labels are categorical\n",
        "                labels_task2 = labels // num_labels_task1  # Dummy operation if labels are categorical\n",
        "\n",
        "                loss_task1 = criterion_task1(outputs_task1, labels_task1)\n",
        "                loss_task2 = criterion_task2(outputs_task2, labels_task2)\n",
        "\n",
        "                loss = loss_task1 + loss_task2\n",
        "                val_loss += loss.item() * inputs.size(0)\n",
        "\n",
        "        val_loss = val_loss / len(val_loader.dataset)\n",
        "        print(f\"Validation Loss: {val_loss:.4f}\")\n",
        "\n",
        "\n",
        "\n"
      ],
      "metadata": {
        "id": "EPUdDw23LMbn"
      },
      "execution_count": null,
      "outputs": []
    },
    {
      "cell_type": "code",
      "source": [
        "train_model(model, train_loader, val_loader, num_epochs=10)"
      ],
      "metadata": {
        "id": "xwJmPxFDO8X2"
      },
      "execution_count": null,
      "outputs": []
    }
  ]
}